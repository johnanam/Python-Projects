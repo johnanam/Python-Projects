{
 "cells": [
  {
   "cell_type": "code",
   "execution_count": 3,
   "id": "3721412e",
   "metadata": {},
   "outputs": [],
   "source": [
    "#! pip install streamlit"
   ]
  },
  {
   "cell_type": "code",
   "execution_count": 5,
   "id": "0ac554a9",
   "metadata": {},
   "outputs": [],
   "source": [
    "#! pip install yfinance"
   ]
  },
  {
   "cell_type": "code",
   "execution_count": 8,
   "id": "4bc25aa9",
   "metadata": {},
   "outputs": [
    {
     "data": {
      "text/plain": [
       "DeltaGenerator()"
      ]
     },
     "execution_count": 8,
     "metadata": {},
     "output_type": "execute_result"
    }
   ],
   "source": [
    "import yfinance as yf\n",
    "import streamlit as st\n",
    "\n",
    "st.write(\"\"\"\n",
    "# Simple Stock Price App\n",
    "\n",
    "Shown are the stock closing price and volume of Google!\n",
    "\n",
    "\"\"\")\n",
    "\n",
    "# https://towardsdatascience.com/how-to-get-stock-data-using-python-c0de1df17e75\n",
    "#define the ticker symbol\n",
    "tickerSymbol = 'GOOGL'\n",
    "#get data on this ticker\n",
    "tickerData = yf.Ticker(tickerSymbol)\n",
    "#get the historical prices for this ticker\n",
    "tickerDf = tickerData.history(period='1d', start='2010-5-31', end='2020-5-31')\n",
    "# Open\tHigh\tLow\tClose\tVolume\tDividends\tStock Splits\n",
    "\n",
    "st.line_chart(tickerDf.Close)\n",
    "st.line_chart(tickerDf.Volume)"
   ]
  },
  {
   "cell_type": "code",
   "execution_count": null,
   "id": "ecd374b4",
   "metadata": {},
   "outputs": [],
   "source": []
  }
 ],
 "metadata": {
  "kernelspec": {
   "display_name": "Python 3 (ipykernel)",
   "language": "python",
   "name": "python3"
  },
  "language_info": {
   "codemirror_mode": {
    "name": "ipython",
    "version": 3
   },
   "file_extension": ".py",
   "mimetype": "text/x-python",
   "name": "python",
   "nbconvert_exporter": "python",
   "pygments_lexer": "ipython3",
   "version": "3.10.9"
  }
 },
 "nbformat": 4,
 "nbformat_minor": 5
}
